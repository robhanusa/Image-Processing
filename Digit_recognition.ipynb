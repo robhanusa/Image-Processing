{
 "cells": [
  {
   "cell_type": "markdown",
   "id": "e04b2260",
   "metadata": {},
   "source": [
    "# Image processing of MNIST dataset using deep learning"
   ]
  },
  {
   "cell_type": "code",
   "execution_count": 1,
   "id": "6dd7ce0f",
   "metadata": {},
   "outputs": [],
   "source": [
    "import tensorflow as tf\n",
    "from tensorflow.keras.utils import to_categorical\n",
    "from tensorflow.keras.models import Sequential\n",
    "from tensorflow.keras.layers import Dense, Rescaling, Flatten\n",
    "from tensorflow.keras.optimizers import Adam\n",
    "from tensorflow.keras.datasets import mnist\n",
    "from matplotlib import pyplot as plt"
   ]
  },
  {
   "cell_type": "code",
   "execution_count": 2,
   "id": "18bb67fb",
   "metadata": {},
   "outputs": [],
   "source": [
    "#load the dataset\n",
    "(X_train, y_train), (X_test, y_test) = mnist.load_data()"
   ]
  },
  {
   "cell_type": "markdown",
   "id": "ea6f51ee",
   "metadata": {},
   "source": [
    "## Get familiar with the dataset"
   ]
  },
  {
   "cell_type": "code",
   "execution_count": 3,
   "id": "34b93655",
   "metadata": {},
   "outputs": [
    {
     "name": "stdout",
     "output_type": "stream",
     "text": [
      "X_train shape:(60000, 28, 28)\n",
      "y_train shape:(60000,)\n",
      "X_test shape:(10000, 28, 28)\n",
      "y_test shape:(60000,)\n"
     ]
    }
   ],
   "source": [
    "print(f'X_train shape:{X_train.shape}')\n",
    "print(f'y_train shape:{y_train.shape}')\n",
    "print(f'X_test shape:{X_test.shape}')\n",
    "print(f'y_test shape:{y_train.shape}')"
   ]
  },
  {
   "cell_type": "code",
   "execution_count": 4,
   "id": "5f14d95a",
   "metadata": {},
   "outputs": [
    {
     "data": {
      "image/png": "[encoded data removed]",
      "text/plain": [
       "<Figure size 2160x720 with 5 Axes>"
      ]
     },
     "metadata": {
      "needs_background": "light"
     },
     "output_type": "display_data"
    }
   ],
   "source": [
    "#print an example image\n",
    "def print5(images):\n",
    "    fig = plt.figure(figsize=(30,10))\n",
    "    for i in range(5):\n",
    "        fig.add_subplot(151+i)\n",
    "        plt.imshow(images[i],cmap=plt.get_cmap('gray'));\n",
    "\n",
    "print5(X_train)"
   ]
  },
  {
   "cell_type": "markdown",
   "id": "23f89cfb",
   "metadata": {},
   "source": [
    "Since this is a pre-loaded dataset, it is not surprising that the images are all in relatively good quality. No further preprocessing will need to be done."
   ]
  },
  {
   "cell_type": "code",
   "execution_count": 5,
   "id": "5fc961a9",
   "metadata": {},
   "outputs": [
    {
     "name": "stdout",
     "output_type": "stream",
     "text": [
      "Epoch 1/3\n",
      "4800/4800 - 8s - loss: 0.2755 - accuracy: 0.9201 - val_loss: 0.1614 - val_accuracy: 0.9515 - 8s/epoch - 2ms/step\n",
      "Epoch 2/3\n",
      "4800/4800 - 6s - loss: 0.1330 - accuracy: 0.9604 - val_loss: 0.1261 - val_accuracy: 0.9647 - 6s/epoch - 1ms/step\n",
      "Epoch 3/3\n",
      "4800/4800 - 6s - loss: 0.0963 - accuracy: 0.9705 - val_loss: 0.1193 - val_accuracy: 0.9643 - 6s/epoch - 1ms/step\n"
     ]
    }
   ],
   "source": [
    "img_height = 28\n",
    "img_width = 28\n",
    "\n",
    "#generate model\n",
    "model = Sequential([\n",
    "    Rescaling(1./255, input_shape=(img_height, img_width)), #rescales pixel values from 0 - 1\n",
    "    Flatten(), #reshapes image\n",
    "    Dense(64, activation = 'relu'),\n",
    "    Dense(10, activation = 'softmax')\n",
    "])\n",
    "\n",
    "#compile model. use loss='categorical_crossentropy' because targets are already one-hot encoded (otherwise I would use \n",
    "#loss='sparse_categorical_crossentropy')\n",
    "model.compile(optimizer = 'adam', loss='sparse_categorical_crossentropy', metrics=['accuracy'])\n",
    "\n",
    "#fit model\n",
    "model.fit(x=X_train, y=y_train, batch_size=10, epochs=3, validation_split = .2, verbose=2);\n"
   ]
  },
  {
   "cell_type": "code",
   "execution_count": 6,
   "id": "3df7e912",
   "metadata": {},
   "outputs": [
    {
     "name": "stdout",
     "output_type": "stream",
     "text": [
      "313/313 [==============================] - 1s 2ms/step - loss: 0.1072 - accuracy: 0.9666\n",
      "Accuracy: 0.9666000008583069\n"
     ]
    }
   ],
   "source": [
    "#evaluate accuracy\n",
    "loss, accuracy = model.evaluate(X_test, y_test)\n",
    "\n",
    "print(f'Accuracy: {accuracy}')"
   ]
  },
  {
   "cell_type": "code",
   "execution_count": null,
   "id": "4cab25f9",
   "metadata": {},
   "outputs": [],
   "source": []
  },
  {
   "cell_type": "code",
   "execution_count": null,
   "id": "c1649042",
   "metadata": {},
   "outputs": [],
   "source": []
  }
 ],
 "metadata": {
  "kernelspec": {
   "display_name": "Python 3",
   "language": "python",
   "name": "python3"
  },
  "language_info": {
   "codemirror_mode": {
    "name": "ipython",
    "version": 3
   },
   "file_extension": ".py",
   "mimetype": "text/x-python",
   "name": "python",
   "nbconvert_exporter": "python",
   "pygments_lexer": "ipython3",
   "version": "3.8.8"
  }
 },
 "nbformat": 4,
 "nbformat_minor": 5
}
