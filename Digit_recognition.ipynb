{
 "cells": [
  {
   "cell_type": "markdown",
   "id": "e04b2260",
   "metadata": {},
   "source": [
    "# Image processing of MNIST dataset using deep learning"
   ]
  },
  {
   "cell_type": "code",
   "execution_count": 1,
   "id": "6dd7ce0f",
   "metadata": {},
   "outputs": [],
   "source": [
    "# Import libraries\n",
    "import numpy as np\n",
    "from numpy.random import seed\n",
    "from tensorflow.random import set_seed\n",
    "from tensorflow.keras.models import Sequential\n",
    "from tensorflow.keras.layers import Dense, Rescaling, Flatten\n",
    "from tensorflow.keras.optimizers import Adam\n",
    "from tensorflow.keras.datasets import mnist\n",
    "from matplotlib import pyplot as plt\n",
    "\n",
    "# Make model repeatable\n",
    "seed(1)\n",
    "set_seed(1)"
   ]
  },
  {
   "cell_type": "code",
   "execution_count": 2,
   "id": "18bb67fb",
   "metadata": {},
   "outputs": [],
   "source": [
    "# Load the dataset\n",
    "(X_train, y_train), (X_test, y_test) = mnist.load_data()"
   ]
  },
  {
   "cell_type": "markdown",
   "id": "ea6f51ee",
   "metadata": {},
   "source": [
    "## Get familiar with the dataset"
   ]
  },
  {
   "cell_type": "code",
   "execution_count": 3,
   "id": "34b93655",
   "metadata": {},
   "outputs": [
    {
     "name": "stdout",
     "output_type": "stream",
     "text": [
      "X_train shape:(60000, 28, 28)\n",
      "y_train shape:(60000,)\n",
      "X_test shape:(10000, 28, 28)\n",
      "y_test shape:(60000,)\n"
     ]
    }
   ],
   "source": [
    "print(f'X_train shape:{X_train.shape}')\n",
    "print(f'y_train shape:{y_train.shape}')\n",
    "print(f'X_test shape:{X_test.shape}')\n",
    "print(f'y_test shape:{y_train.shape}')"
   ]
  },
  {
   "cell_type": "code",
   "execution_count": 4,
   "id": "5f14d95a",
   "metadata": {},
   "outputs": [
    {
     "data": {
      "image/png": "[encoded data removed]",
      "text/plain": [
       "<Figure size 2160x720 with 5 Axes>"
      ]
     },
     "metadata": {
      "needs_background": "light"
     },
     "output_type": "display_data"
    }
   ],
   "source": [
    "# Print example images\n",
    "def print5(images):\n",
    "    fig = plt.figure(figsize=(30, 10))\n",
    "    for i in range(5):\n",
    "        fig.add_subplot(151+i)\n",
    "        plt.imshow(images[i], cmap=plt.get_cmap('gray'));\n",
    "\n",
    "print5(X_train)"
   ]
  },
  {
   "cell_type": "markdown",
   "id": "23f89cfb",
   "metadata": {},
   "source": [
    "Since this is a pre-loaded dataset, it is not surprising that the images are all in relatively good quality. No further preprocessing will need to be done.\n",
    "\n",
    "## Modeling and analysis"
   ]
  },
  {
   "cell_type": "code",
   "execution_count": 5,
   "id": "5fc961a9",
   "metadata": {},
   "outputs": [
    {
     "name": "stdout",
     "output_type": "stream",
     "text": [
      "Epoch 1/20\n",
      "4800/4800 - 8s - loss: 0.2814 - accuracy: 0.9169 - val_loss: 0.1704 - val_accuracy: 0.9516 - 8s/epoch - 2ms/step\n",
      "Epoch 2/20\n",
      "4800/4800 - 7s - loss: 0.1395 - accuracy: 0.9583 - val_loss: 0.1246 - val_accuracy: 0.9629 - 7s/epoch - 2ms/step\n",
      "Epoch 3/20\n",
      "4800/4800 - 7s - loss: 0.1011 - accuracy: 0.9694 - val_loss: 0.1076 - val_accuracy: 0.9678 - 7s/epoch - 1ms/step\n",
      "Epoch 4/20\n",
      "4800/4800 - 7s - loss: 0.0797 - accuracy: 0.9758 - val_loss: 0.1263 - val_accuracy: 0.9627 - 7s/epoch - 1ms/step\n",
      "Epoch 5/20\n",
      "4800/4800 - 7s - loss: 0.0633 - accuracy: 0.9805 - val_loss: 0.1199 - val_accuracy: 0.9640 - 7s/epoch - 1ms/step\n",
      "Epoch 6/20\n",
      "4800/4800 - 7s - loss: 0.0529 - accuracy: 0.9831 - val_loss: 0.1021 - val_accuracy: 0.9694 - 7s/epoch - 1ms/step\n",
      "Epoch 7/20\n",
      "4800/4800 - 7s - loss: 0.0451 - accuracy: 0.9856 - val_loss: 0.1103 - val_accuracy: 0.9701 - 7s/epoch - 2ms/step\n",
      "Epoch 8/20\n",
      "4800/4800 - 7s - loss: 0.0379 - accuracy: 0.9878 - val_loss: 0.1065 - val_accuracy: 0.9693 - 7s/epoch - 1ms/step\n",
      "Epoch 9/20\n",
      "4800/4800 - 7s - loss: 0.0322 - accuracy: 0.9893 - val_loss: 0.1090 - val_accuracy: 0.9712 - 7s/epoch - 1ms/step\n",
      "Epoch 10/20\n",
      "4800/4800 - 7s - loss: 0.0282 - accuracy: 0.9907 - val_loss: 0.1162 - val_accuracy: 0.9714 - 7s/epoch - 1ms/step\n",
      "Epoch 11/20\n",
      "4800/4800 - 7s - loss: 0.0236 - accuracy: 0.9921 - val_loss: 0.1168 - val_accuracy: 0.9718 - 7s/epoch - 1ms/step\n",
      "Epoch 12/20\n",
      "4800/4800 - 7s - loss: 0.0229 - accuracy: 0.9927 - val_loss: 0.1221 - val_accuracy: 0.9703 - 7s/epoch - 2ms/step\n",
      "Epoch 13/20\n",
      "4800/4800 - 7s - loss: 0.0193 - accuracy: 0.9938 - val_loss: 0.1280 - val_accuracy: 0.9704 - 7s/epoch - 2ms/step\n",
      "Epoch 14/20\n",
      "4800/4800 - 7s - loss: 0.0186 - accuracy: 0.9939 - val_loss: 0.1356 - val_accuracy: 0.9702 - 7s/epoch - 1ms/step\n",
      "Epoch 15/20\n",
      "4800/4800 - 6s - loss: 0.0154 - accuracy: 0.9949 - val_loss: 0.1390 - val_accuracy: 0.9702 - 6s/epoch - 1ms/step\n",
      "Epoch 16/20\n",
      "4800/4800 - 6s - loss: 0.0148 - accuracy: 0.9950 - val_loss: 0.1348 - val_accuracy: 0.9733 - 6s/epoch - 1ms/step\n",
      "Epoch 17/20\n",
      "4800/4800 - 7s - loss: 0.0127 - accuracy: 0.9959 - val_loss: 0.1435 - val_accuracy: 0.9715 - 7s/epoch - 1ms/step\n",
      "Epoch 18/20\n",
      "4800/4800 - 7s - loss: 0.0131 - accuracy: 0.9955 - val_loss: 0.1418 - val_accuracy: 0.9727 - 7s/epoch - 1ms/step\n",
      "Epoch 19/20\n",
      "4800/4800 - 7s - loss: 0.0111 - accuracy: 0.9966 - val_loss: 0.1364 - val_accuracy: 0.9726 - 7s/epoch - 1ms/step\n",
      "Epoch 20/20\n",
      "4800/4800 - 7s - loss: 0.0110 - accuracy: 0.9964 - val_loss: 0.1589 - val_accuracy: 0.9705 - 7s/epoch - 1ms/step\n"
     ]
    }
   ],
   "source": [
    "img_height = 28\n",
    "img_width = 28\n",
    "\n",
    "# Generate model\n",
    "model = Sequential([\n",
    "    Rescaling(1./255, input_shape=(img_height, img_width)), # Rescales pixel values from 0 - 1\n",
    "    Flatten(), # Reshapes image\n",
    "    Dense(64, activation='relu'),\n",
    "    Dense(10, activation='softmax')\n",
    "                  ])\n",
    "\n",
    "# Compile model\n",
    "model.compile(optimizer='adam', loss='sparse_categorical_crossentropy', metrics=['accuracy'])\n",
    "\n",
    "# Fit model\n",
    "model.fit(x=X_train, y=y_train, batch_size=10, epochs=20, validation_split=.2, verbose=2);"
   ]
  },
  {
   "cell_type": "markdown",
   "id": "e468a018",
   "metadata": {},
   "source": [
    "## Evaluate model"
   ]
  },
  {
   "cell_type": "code",
   "execution_count": 6,
   "id": "3df7e912",
   "metadata": {},
   "outputs": [
    {
     "name": "stdout",
     "output_type": "stream",
     "text": [
      "313/313 [==============================] - 1s 2ms/step - loss: 0.1418 - accuracy: 0.9740\n"
     ]
    }
   ],
   "source": [
    "# Model accuracy\n",
    "loss, accuracy = model.evaluate(X_test, y_test)"
   ]
  },
  {
   "cell_type": "markdown",
   "id": "4a7cf4ef",
   "metadata": {},
   "source": [
    "We see that the validation and test accurracy are both high and similar to each other (approximately and 97%), indicating this is a good model, without overfitting to the training data."
   ]
  },
  {
   "cell_type": "markdown",
   "id": "beadd25a",
   "metadata": {},
   "source": [
    "## Predict"
   ]
  },
  {
   "cell_type": "code",
   "execution_count": 7,
   "id": "c1649042",
   "metadata": {},
   "outputs": [
    {
     "data": {
      "text/plain": [
       "array([1.0466491e-14, 5.4295160e-20, 4.3242314e-13, 4.5692525e-12,\n",
       "       1.1583764e-28, 3.4577255e-17, 4.2565689e-30, 1.0000000e+00,\n",
       "       8.9831544e-14, 8.7597806e-13], dtype=float32)"
      ]
     },
     "execution_count": 7,
     "metadata": {},
     "output_type": "execute_result"
    }
   ],
   "source": [
    "predicted = model.predict(X_test)\n",
    "predicted[0]"
   ]
  },
  {
   "cell_type": "markdown",
   "id": "82bbbbb7",
   "metadata": {},
   "source": [
    "This array contains all probabilities that a particular digit is matched to the image. We can treat the highest probability as our prediction."
   ]
  },
  {
   "cell_type": "code",
   "execution_count": 8,
   "id": "21b3282f",
   "metadata": {},
   "outputs": [
    {
     "data": {
      "text/plain": [
       "7"
      ]
     },
     "execution_count": 8,
     "metadata": {},
     "output_type": "execute_result"
    }
   ],
   "source": [
    "np.argmax(predicted[0])"
   ]
  },
  {
   "cell_type": "markdown",
   "id": "6883bf5c",
   "metadata": {},
   "source": [
    "Check this against the test labels:"
   ]
  },
  {
   "cell_type": "code",
   "execution_count": 9,
   "id": "0709d365",
   "metadata": {},
   "outputs": [
    {
     "data": {
      "text/plain": [
       "7"
      ]
     },
     "execution_count": 9,
     "metadata": {},
     "output_type": "execute_result"
    }
   ],
   "source": [
    "y_test[0]"
   ]
  },
  {
   "cell_type": "markdown",
   "id": "8c952454",
   "metadata": {},
   "source": [
    "This is correct. Let's look at the image:"
   ]
  },
  {
   "cell_type": "code",
   "execution_count": 10,
   "id": "773ca6f3",
   "metadata": {},
   "outputs": [
    {
     "data": {
      "image/png": "[encoded data removed]",
      "text/plain": [
       "<Figure size 432x288 with 1 Axes>"
      ]
     },
     "metadata": {
      "needs_background": "light"
     },
     "output_type": "display_data"
    }
   ],
   "source": [
    "plt.imshow(X_test[0], cmap=plt.get_cmap('gray'));"
   ]
  },
  {
   "cell_type": "markdown",
   "id": "f932dc6d",
   "metadata": {},
   "source": [
    "This looks like a 7, as we expected. We can expect similar results with 97% accurracy."
   ]
  }
 ],
 "metadata": {
  "kernelspec": {
   "display_name": "Python 3",
   "language": "python",
   "name": "python3"
  },
  "language_info": {
   "codemirror_mode": {
    "name": "ipython",
    "version": 3
   },
   "file_extension": ".py",
   "mimetype": "text/x-python",
   "name": "python",
   "nbconvert_exporter": "python",
   "pygments_lexer": "ipython3",
   "version": "3.8.8"
  }
 },
 "nbformat": 4,
 "nbformat_minor": 5
}
